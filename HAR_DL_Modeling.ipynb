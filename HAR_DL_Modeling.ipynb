{
  "nbformat": 4,
  "nbformat_minor": 0,
  "metadata": {
    "colab": {
      "name": "HAR_DL_Modeling.ipynb",
      "provenance": []
    },
    "kernelspec": {
      "name": "python3",
      "display_name": "Python 3"
    },
    "language_info": {
      "name": "python"
    }
  },
  "cells": [
    {
      "cell_type": "code",
      "execution_count": 1,
      "metadata": {
        "id": "oWc1q1qDWTV5"
      },
      "outputs": [],
      "source": [
        "import pandas as pd\n",
        "import numpy as np"
      ]
    },
    {
      "cell_type": "code",
      "source": [
        "# Activities are the class labels\n",
        "# It is a 6 class classification\n",
        "ACTIVITIES = {\n",
        "    0: 'WALKING',\n",
        "    1: 'WALKING_UPSTAIRS',\n",
        "    2: 'WALKING_DOWNSTAIRS',\n",
        "    3: 'SITTING',\n",
        "    4: 'STANDING',\n",
        "    5: 'LAYING',\n",
        "}\n",
        "\n",
        "# Utility function to print the confusion matrix\n",
        "def confusion_matrix(Y_true, Y_pred):\n",
        "    Y_true = pd.Series([ACTIVITIES[y] for y in np.argmax(Y_true, axis=1)])\n",
        "    Y_pred = pd.Series([ACTIVITIES[y] for y in np.argmax(Y_pred, axis=1)])\n",
        "\n",
        "    return pd.crosstab(Y_true, Y_pred, rownames=['True'], colnames=['Pred'])"
      ],
      "metadata": {
        "id": "7Qb_Xvl0W7vE"
      },
      "execution_count": 2,
      "outputs": []
    },
    {
      "cell_type": "code",
      "source": [
        "DATADIR = '/content/drive/MyDrive/HumanActivityRecognition/HAR/UCI_HAR_Dataset'"
      ],
      "metadata": {
        "id": "cV2PvSaZXMa0"
      },
      "execution_count": 3,
      "outputs": []
    },
    {
      "cell_type": "code",
      "source": [
        "SIGNALS = [\n",
        "    \"body_acc_x\",\n",
        "    \"body_acc_y\",\n",
        "    \"body_acc_z\",\n",
        "    \"body_gyro_x\",\n",
        "    \"body_gyro_y\",\n",
        "    \"body_gyro_z\",\n",
        "    \"total_acc_x\",\n",
        "    \"total_acc_y\",\n",
        "    \"total_acc_z\"\n",
        "]"
      ],
      "metadata": {
        "id": "OWH0I5ZGXJRr"
      },
      "execution_count": 4,
      "outputs": []
    },
    {
      "cell_type": "code",
      "source": [
        "# Utility function to read the data from csv file\n",
        "def _read_csv(filename):\n",
        "    return pd.read_csv(filename, delim_whitespace=True, header=None)\n",
        "\n",
        "# Utility function to load the load\n",
        "def load_signals(subset):\n",
        "    signals_data = []\n",
        "\n",
        "    for signal in SIGNALS:\n",
        "        filename = f'/content/drive/MyDrive/HumanActivityRecognition/HAR/UCI_HAR_Dataset/{subset}/Inertial Signals/{signal}_{subset}.txt'\n",
        "        signals_data.append(\n",
        "            _read_csv(filename).values\n",
        "        ) \n",
        "\n",
        "    # Transpose is used to change the dimensionality of the output,\n",
        "    # aggregating the signals by combination of sample/timestep.\n",
        "    # Resultant shape is (7352 train/2947 test samples, 128 timesteps, 9 signals)\n",
        "    return np.transpose(signals_data, (1, 2, 0))"
      ],
      "metadata": {
        "id": "ymdtaMX1XZEa"
      },
      "execution_count": 19,
      "outputs": []
    },
    {
      "cell_type": "code",
      "source": [
        "def load_y(subset):\n",
        "    \"\"\"\n",
        "    The objective that we are trying to predict is a integer, from 1 to 6,\n",
        "    that represents a human activity. We return a binary representation of \n",
        "    every sample objective as a 6 bits vector using One Hot Encoding\n",
        "    (https://pandas.pydata.org/pandas-docs/stable/generated/pandas.get_dummies.html)\n",
        "    \"\"\"\n",
        "    filename = f'/content/drive/MyDrive/HumanActivityRecognition/HAR/UCI_HAR_Dataset/{subset}/y_{subset}.txt'\n",
        "    y = _read_csv(filename)[0]\n",
        "\n",
        "    return pd.get_dummies(y).values"
      ],
      "metadata": {
        "id": "f2_EzS_-XfFi"
      },
      "execution_count": 23,
      "outputs": []
    },
    {
      "cell_type": "code",
      "source": [
        "def load_data():\n",
        "    \"\"\"\n",
        "    Obtain the dataset from multiple files.\n",
        "    Returns: X_train, X_test, y_train, y_test\n",
        "    \"\"\"\n",
        "    X_train, X_test = load_signals('train'), load_signals('test')\n",
        "    y_train, y_test = load_y('train'), load_y('test')\n",
        "\n",
        "    return X_train, X_test, y_train, y_test"
      ],
      "metadata": {
        "id": "CXRtqzpsXj5v"
      },
      "execution_count": 7,
      "outputs": []
    },
    {
      "cell_type": "code",
      "source": [
        "# Importing tensorflow\n",
        "np.random.seed(42)\n",
        "import tensorflow as tf\n",
        "#tf.set_random_seed(42)"
      ],
      "metadata": {
        "id": "4pk1vYk6X0PB"
      },
      "execution_count": 9,
      "outputs": []
    },
    {
      "cell_type": "code",
      "source": [
        "# Configuring a session\n",
        "session_conf = tf.compat.v1.ConfigProto(\n",
        "    intra_op_parallelism_threads=1,\n",
        "    inter_op_parallelism_threads=1\n",
        ")"
      ],
      "metadata": {
        "id": "wEI9b6STX8YG"
      },
      "execution_count": 11,
      "outputs": []
    },
    {
      "cell_type": "code",
      "source": [
        "from keras import backend as K\n",
        "sess = tf.compat.v1.Session(graph=tf.compat.v1.get_default_graph(), config=session_conf)\n",
        "K.set_session(sess)\n",
        "# Importing libraries\n",
        "from keras.models import Sequential\n",
        "from keras.layers import LSTM\n",
        "from keras.layers.core import Dense, Dropout\n",
        "# Initializing parameters\n",
        "epochs = 30\n",
        "batch_size = 16\n",
        "n_hidden = 32"
      ],
      "metadata": {
        "id": "x3tJ5uLCYKJC"
      },
      "execution_count": 14,
      "outputs": []
    },
    {
      "cell_type": "code",
      "source": [
        "# Utility function to count the number of classes\n",
        "def _count_classes(y):\n",
        "    return len(set([tuple(category) for category in y]))"
      ],
      "metadata": {
        "id": "8zwmyg1hYoIP"
      },
      "execution_count": 15,
      "outputs": []
    },
    {
      "cell_type": "code",
      "source": [
        "X_train, X_test, Y_train, Y_test = load_data()"
      ],
      "metadata": {
        "id": "evexDkMsYvQl"
      },
      "execution_count": 24,
      "outputs": []
    },
    {
      "cell_type": "code",
      "source": [
        "timesteps = len(X_train[0])\n",
        "input_dim = len(X_train[0][0])\n",
        "n_classes = _count_classes(Y_train)\n",
        "\n",
        "print(timesteps)\n",
        "print(input_dim)\n",
        "print(len(X_train))"
      ],
      "metadata": {
        "colab": {
          "base_uri": "https://localhost:8080/"
        },
        "id": "XWmgNtUWZQnF",
        "outputId": "449d2647-f860-4343-cc34-99895e2ed478"
      },
      "execution_count": 25,
      "outputs": [
        {
          "output_type": "stream",
          "name": "stdout",
          "text": [
            "128\n",
            "9\n",
            "7352\n"
          ]
        }
      ]
    },
    {
      "cell_type": "markdown",
      "source": [
        "#LSTM Modelling"
      ],
      "metadata": {
        "id": "_7Lq_XeXZoMF"
      }
    },
    {
      "cell_type": "code",
      "source": [
        "# Initiliazing the sequential model\n",
        "model = Sequential()\n",
        "# Configuring the parameters\n",
        "model.add(LSTM(n_hidden, input_shape=(timesteps, input_dim)))\n",
        "# Adding a dropout layer\n",
        "model.add(Dropout(0.5))\n",
        "# Adding a dense output layer with sigmoid activation\n",
        "model.add(Dense(n_classes, activation='sigmoid'))\n",
        "model.summary()"
      ],
      "metadata": {
        "colab": {
          "base_uri": "https://localhost:8080/"
        },
        "id": "a1uiPRYHZnTd",
        "outputId": "caa2180a-68d3-4e53-f941-c0d6aef4f5cd"
      },
      "execution_count": 26,
      "outputs": [
        {
          "output_type": "stream",
          "name": "stdout",
          "text": [
            "Model: \"sequential\"\n",
            "_________________________________________________________________\n",
            " Layer (type)                Output Shape              Param #   \n",
            "=================================================================\n",
            " lstm (LSTM)                 (None, 32)                5376      \n",
            "                                                                 \n",
            " dropout (Dropout)           (None, 32)                0         \n",
            "                                                                 \n",
            " dense (Dense)               (None, 6)                 198       \n",
            "                                                                 \n",
            "=================================================================\n",
            "Total params: 5,574\n",
            "Trainable params: 5,574\n",
            "Non-trainable params: 0\n",
            "_________________________________________________________________\n"
          ]
        }
      ]
    },
    {
      "cell_type": "code",
      "source": [
        "# Compiling the model\n",
        "model.compile(loss='categorical_crossentropy',\n",
        "              optimizer='rmsprop',\n",
        "              metrics=['accuracy'])"
      ],
      "metadata": {
        "id": "mu9vyikuZtzK"
      },
      "execution_count": 27,
      "outputs": []
    },
    {
      "cell_type": "code",
      "source": [
        "# Training the model\n",
        "model.fit(X_train,\n",
        "          Y_train,\n",
        "          batch_size=batch_size,\n",
        "          validation_data=(X_test, Y_test),\n",
        "          epochs=epochs)"
      ],
      "metadata": {
        "colab": {
          "base_uri": "https://localhost:8080/"
        },
        "id": "ODH4dwxAZzsf",
        "outputId": "71830b0b-cfb1-48f9-dab8-2384375e93f7"
      },
      "execution_count": 28,
      "outputs": [
        {
          "output_type": "stream",
          "name": "stdout",
          "text": [
            "Epoch 1/30\n",
            "460/460 [==============================] - 25s 48ms/step - loss: 1.1980 - accuracy: 0.4872 - val_loss: 1.0426 - val_accuracy: 0.5989\n",
            "Epoch 2/30\n",
            "460/460 [==============================] - 21s 46ms/step - loss: 0.7899 - accuracy: 0.6712 - val_loss: 0.7514 - val_accuracy: 0.6949\n",
            "Epoch 3/30\n",
            "460/460 [==============================] - 21s 46ms/step - loss: 0.6123 - accuracy: 0.7626 - val_loss: 0.5859 - val_accuracy: 0.7923\n",
            "Epoch 4/30\n",
            "460/460 [==============================] - 22s 47ms/step - loss: 0.4511 - accuracy: 0.8485 - val_loss: 0.5428 - val_accuracy: 0.8235\n",
            "Epoch 5/30\n",
            "460/460 [==============================] - 21s 45ms/step - loss: 0.3536 - accuracy: 0.8889 - val_loss: 0.7092 - val_accuracy: 0.7933\n",
            "Epoch 6/30\n",
            "460/460 [==============================] - 22s 48ms/step - loss: 0.3235 - accuracy: 0.8988 - val_loss: 0.4897 - val_accuracy: 0.8544\n",
            "Epoch 7/30\n",
            "460/460 [==============================] - 20s 44ms/step - loss: 0.2755 - accuracy: 0.9166 - val_loss: 0.4346 - val_accuracy: 0.8734\n",
            "Epoch 8/30\n",
            "460/460 [==============================] - 20s 44ms/step - loss: 0.2381 - accuracy: 0.9234 - val_loss: 0.5664 - val_accuracy: 0.8568\n",
            "Epoch 9/30\n",
            "460/460 [==============================] - 20s 44ms/step - loss: 0.2198 - accuracy: 0.9304 - val_loss: 0.4751 - val_accuracy: 0.8619\n",
            "Epoch 10/30\n",
            "460/460 [==============================] - 22s 48ms/step - loss: 0.1977 - accuracy: 0.9358 - val_loss: 0.5831 - val_accuracy: 0.8565\n",
            "Epoch 11/30\n",
            "460/460 [==============================] - 21s 45ms/step - loss: 0.2022 - accuracy: 0.9340 - val_loss: 0.5197 - val_accuracy: 0.8728\n",
            "Epoch 12/30\n",
            "460/460 [==============================] - 21s 45ms/step - loss: 0.1951 - accuracy: 0.9353 - val_loss: 0.4792 - val_accuracy: 0.8839\n",
            "Epoch 13/30\n",
            "460/460 [==============================] - 20s 44ms/step - loss: 0.1888 - accuracy: 0.9362 - val_loss: 0.6470 - val_accuracy: 0.8517\n",
            "Epoch 14/30\n",
            "460/460 [==============================] - 21s 45ms/step - loss: 0.1753 - accuracy: 0.9361 - val_loss: 0.4788 - val_accuracy: 0.8856\n",
            "Epoch 15/30\n",
            "460/460 [==============================] - 21s 45ms/step - loss: 0.1724 - accuracy: 0.9416 - val_loss: 0.4887 - val_accuracy: 0.8884\n",
            "Epoch 16/30\n",
            "460/460 [==============================] - 21s 45ms/step - loss: 0.1720 - accuracy: 0.9422 - val_loss: 0.3912 - val_accuracy: 0.8979\n",
            "Epoch 17/30\n",
            "460/460 [==============================] - 22s 47ms/step - loss: 0.1756 - accuracy: 0.9376 - val_loss: 0.3936 - val_accuracy: 0.8894\n",
            "Epoch 18/30\n",
            "460/460 [==============================] - 21s 45ms/step - loss: 0.1712 - accuracy: 0.9412 - val_loss: 0.3882 - val_accuracy: 0.9009\n",
            "Epoch 19/30\n",
            "460/460 [==============================] - 20s 44ms/step - loss: 0.1604 - accuracy: 0.9430 - val_loss: 0.5843 - val_accuracy: 0.8833\n",
            "Epoch 20/30\n",
            "460/460 [==============================] - 20s 44ms/step - loss: 0.1607 - accuracy: 0.9412 - val_loss: 0.4194 - val_accuracy: 0.8992\n",
            "Epoch 21/30\n",
            "460/460 [==============================] - 21s 45ms/step - loss: 0.1499 - accuracy: 0.9416 - val_loss: 0.4468 - val_accuracy: 0.8996\n",
            "Epoch 22/30\n",
            "460/460 [==============================] - 20s 43ms/step - loss: 0.1562 - accuracy: 0.9425 - val_loss: 0.3759 - val_accuracy: 0.9050\n",
            "Epoch 23/30\n",
            "460/460 [==============================] - 20s 44ms/step - loss: 0.1503 - accuracy: 0.9453 - val_loss: 0.4036 - val_accuracy: 0.8985\n",
            "Epoch 24/30\n",
            "460/460 [==============================] - 20s 43ms/step - loss: 0.1591 - accuracy: 0.9442 - val_loss: 0.3894 - val_accuracy: 0.8985\n",
            "Epoch 25/30\n",
            "460/460 [==============================] - 20s 44ms/step - loss: 0.1535 - accuracy: 0.9414 - val_loss: 0.4694 - val_accuracy: 0.8904\n",
            "Epoch 26/30\n",
            "460/460 [==============================] - 26s 56ms/step - loss: 0.1494 - accuracy: 0.9459 - val_loss: 0.4209 - val_accuracy: 0.9019\n",
            "Epoch 27/30\n",
            "460/460 [==============================] - 21s 45ms/step - loss: 0.1421 - accuracy: 0.9471 - val_loss: 0.5633 - val_accuracy: 0.8887\n",
            "Epoch 28/30\n",
            "460/460 [==============================] - 22s 48ms/step - loss: 0.1484 - accuracy: 0.9440 - val_loss: 0.4257 - val_accuracy: 0.8948\n",
            "Epoch 29/30\n",
            "460/460 [==============================] - 21s 45ms/step - loss: 0.1489 - accuracy: 0.9461 - val_loss: 0.5962 - val_accuracy: 0.8938\n",
            "Epoch 30/30\n",
            "460/460 [==============================] - 21s 46ms/step - loss: 0.1519 - accuracy: 0.9441 - val_loss: 0.5240 - val_accuracy: 0.8992\n"
          ]
        },
        {
          "output_type": "execute_result",
          "data": {
            "text/plain": [
              "<keras.callbacks.History at 0x7f2f01edacd0>"
            ]
          },
          "metadata": {},
          "execution_count": 28
        }
      ]
    },
    {
      "cell_type": "markdown",
      "source": [
        "__Observation__\n",
        "* DL model perform quite well if we want to compair with ML models\n",
        "* Here we don't have any feature engineered features we are using time stamp windowing of input collective data\n",
        "* As it has only 7352 data points it is very less required input data for LSTM model but it perform well with 94% accuracy.\n"
      ],
      "metadata": {
        "id": "iOwPahpKcULc"
      }
    }
  ]
}